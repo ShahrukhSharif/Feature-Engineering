{
 "cells": [
  {
   "cell_type": "code",
   "execution_count": null,
   "metadata": {},
   "outputs": [],
   "source": [
    "'''\n",
    "Data And Time Is Also Categorical Variables.But we will always give Some Respect to get more insights in the form of data.\n",
    "'''"
   ]
  },
  {
   "cell_type": "code",
   "execution_count": 1,
   "metadata": {},
   "outputs": [],
   "source": [
    "import pandas as pd\n",
    "import numpy as np\n",
    "\n",
    "import matplotlib.pyplot as plt\n",
    "%matplotlib inline"
   ]
  },
  {
   "cell_type": "code",
   "execution_count": 2,
   "metadata": {},
   "outputs": [
    {
     "data": {
      "text/html": [
       "<div>\n",
       "<style scoped>\n",
       "    .dataframe tbody tr th:only-of-type {\n",
       "        vertical-align: middle;\n",
       "    }\n",
       "\n",
       "    .dataframe tbody tr th {\n",
       "        vertical-align: top;\n",
       "    }\n",
       "\n",
       "    .dataframe thead th {\n",
       "        text-align: right;\n",
       "    }\n",
       "</style>\n",
       "<table border=\"1\" class=\"dataframe\">\n",
       "  <thead>\n",
       "    <tr style=\"text-align: right;\">\n",
       "      <th></th>\n",
       "      <th>loan_amnt</th>\n",
       "      <th>grade</th>\n",
       "      <th>issue_d</th>\n",
       "      <th>purpose</th>\n",
       "      <th>last_pymnt_d</th>\n",
       "    </tr>\n",
       "  </thead>\n",
       "  <tbody>\n",
       "    <tr>\n",
       "      <th>0</th>\n",
       "      <td>2500</td>\n",
       "      <td>C</td>\n",
       "      <td>Dec-2018</td>\n",
       "      <td>debt_consolidation</td>\n",
       "      <td>Feb-2019</td>\n",
       "    </tr>\n",
       "    <tr>\n",
       "      <th>1</th>\n",
       "      <td>30000</td>\n",
       "      <td>D</td>\n",
       "      <td>Dec-2018</td>\n",
       "      <td>debt_consolidation</td>\n",
       "      <td>Feb-2019</td>\n",
       "    </tr>\n",
       "    <tr>\n",
       "      <th>2</th>\n",
       "      <td>5000</td>\n",
       "      <td>D</td>\n",
       "      <td>Dec-2018</td>\n",
       "      <td>debt_consolidation</td>\n",
       "      <td>Feb-2019</td>\n",
       "    </tr>\n",
       "    <tr>\n",
       "      <th>3</th>\n",
       "      <td>4000</td>\n",
       "      <td>D</td>\n",
       "      <td>Dec-2018</td>\n",
       "      <td>debt_consolidation</td>\n",
       "      <td>Feb-2019</td>\n",
       "    </tr>\n",
       "    <tr>\n",
       "      <th>4</th>\n",
       "      <td>30000</td>\n",
       "      <td>C</td>\n",
       "      <td>Dec-2018</td>\n",
       "      <td>debt_consolidation</td>\n",
       "      <td>Feb-2019</td>\n",
       "    </tr>\n",
       "  </tbody>\n",
       "</table>\n",
       "</div>"
      ],
      "text/plain": [
       "   loan_amnt grade   issue_d             purpose last_pymnt_d\n",
       "0       2500     C  Dec-2018  debt_consolidation     Feb-2019\n",
       "1      30000     D  Dec-2018  debt_consolidation     Feb-2019\n",
       "2       5000     D  Dec-2018  debt_consolidation     Feb-2019\n",
       "3       4000     D  Dec-2018  debt_consolidation     Feb-2019\n",
       "4      30000     C  Dec-2018  debt_consolidation     Feb-2019"
      ]
     },
     "execution_count": 2,
     "metadata": {},
     "output_type": "execute_result"
    }
   ],
   "source": [
    "# let's load the Lending Club dataset with a few selected columns\n",
    "\n",
    "use_cols = ['loan_amnt', 'grade', 'purpose', 'issue_d', 'last_pymnt_d']\n",
    "\n",
    "data = pd.read_csv('loan.csv', usecols=use_cols)\n",
    "\n",
    "data.head()"
   ]
  },
  {
   "cell_type": "code",
   "execution_count": 3,
   "metadata": {},
   "outputs": [
    {
     "data": {
      "text/plain": [
       "loan_amnt        int64\n",
       "grade           object\n",
       "issue_d         object\n",
       "purpose         object\n",
       "last_pymnt_d    object\n",
       "dtype: object"
      ]
     },
     "execution_count": 3,
     "metadata": {},
     "output_type": "execute_result"
    }
   ],
   "source": [
    "data.dtypes     #Only Loan_amnt is Numerical Variable"
   ]
  },
  {
   "cell_type": "code",
   "execution_count": 5,
   "metadata": {},
   "outputs": [],
   "source": [
    "#Parse String to date and time Format\n",
    "data.issue_d = pd.to_datetime(data.issue_d)"
   ]
  },
  {
   "cell_type": "code",
   "execution_count": 6,
   "metadata": {},
   "outputs": [
    {
     "data": {
      "text/html": [
       "<div>\n",
       "<style scoped>\n",
       "    .dataframe tbody tr th:only-of-type {\n",
       "        vertical-align: middle;\n",
       "    }\n",
       "\n",
       "    .dataframe tbody tr th {\n",
       "        vertical-align: top;\n",
       "    }\n",
       "\n",
       "    .dataframe thead th {\n",
       "        text-align: right;\n",
       "    }\n",
       "</style>\n",
       "<table border=\"1\" class=\"dataframe\">\n",
       "  <thead>\n",
       "    <tr style=\"text-align: right;\">\n",
       "      <th></th>\n",
       "      <th>loan_amnt</th>\n",
       "      <th>grade</th>\n",
       "      <th>issue_d</th>\n",
       "      <th>purpose</th>\n",
       "      <th>last_pymnt_d</th>\n",
       "    </tr>\n",
       "  </thead>\n",
       "  <tbody>\n",
       "    <tr>\n",
       "      <th>0</th>\n",
       "      <td>2500</td>\n",
       "      <td>C</td>\n",
       "      <td>2018-12-01</td>\n",
       "      <td>debt_consolidation</td>\n",
       "      <td>Feb-2019</td>\n",
       "    </tr>\n",
       "    <tr>\n",
       "      <th>1</th>\n",
       "      <td>30000</td>\n",
       "      <td>D</td>\n",
       "      <td>2018-12-01</td>\n",
       "      <td>debt_consolidation</td>\n",
       "      <td>Feb-2019</td>\n",
       "    </tr>\n",
       "    <tr>\n",
       "      <th>2</th>\n",
       "      <td>5000</td>\n",
       "      <td>D</td>\n",
       "      <td>2018-12-01</td>\n",
       "      <td>debt_consolidation</td>\n",
       "      <td>Feb-2019</td>\n",
       "    </tr>\n",
       "    <tr>\n",
       "      <th>3</th>\n",
       "      <td>4000</td>\n",
       "      <td>D</td>\n",
       "      <td>2018-12-01</td>\n",
       "      <td>debt_consolidation</td>\n",
       "      <td>Feb-2019</td>\n",
       "    </tr>\n",
       "    <tr>\n",
       "      <th>4</th>\n",
       "      <td>30000</td>\n",
       "      <td>C</td>\n",
       "      <td>2018-12-01</td>\n",
       "      <td>debt_consolidation</td>\n",
       "      <td>Feb-2019</td>\n",
       "    </tr>\n",
       "  </tbody>\n",
       "</table>\n",
       "</div>"
      ],
      "text/plain": [
       "   loan_amnt grade    issue_d             purpose last_pymnt_d\n",
       "0       2500     C 2018-12-01  debt_consolidation     Feb-2019\n",
       "1      30000     D 2018-12-01  debt_consolidation     Feb-2019\n",
       "2       5000     D 2018-12-01  debt_consolidation     Feb-2019\n",
       "3       4000     D 2018-12-01  debt_consolidation     Feb-2019\n",
       "4      30000     C 2018-12-01  debt_consolidation     Feb-2019"
      ]
     },
     "execution_count": 6,
     "metadata": {},
     "output_type": "execute_result"
    }
   ],
   "source": [
    "data.head()"
   ]
  },
  {
   "cell_type": "code",
   "execution_count": null,
   "metadata": {},
   "outputs": [],
   "source": [
    "#In Future You Should Again Explore More insights in the form of Date."
   ]
  }
 ],
 "metadata": {
  "kernelspec": {
   "display_name": "Python 3",
   "language": "python",
   "name": "python3"
  },
  "language_info": {
   "codemirror_mode": {
    "name": "ipython",
    "version": 3
   },
   "file_extension": ".py",
   "mimetype": "text/x-python",
   "name": "python",
   "nbconvert_exporter": "python",
   "pygments_lexer": "ipython3",
   "version": "3.7.0"
  }
 },
 "nbformat": 4,
 "nbformat_minor": 2
}
